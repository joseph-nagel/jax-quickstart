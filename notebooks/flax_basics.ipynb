{
 "cells": [
  {
   "cell_type": "markdown",
   "id": "2fe9d1e4-97b7-4d2e-870e-c7f27aaf39ea",
   "metadata": {},
   "source": [
    "# Flax basics"
   ]
  },
  {
   "cell_type": "code",
   "execution_count": null,
   "id": "c50aaf62-dcaf-4026-887c-317a8da9e4fe",
   "metadata": {},
   "outputs": [],
   "source": [
    "%load_ext autoreload\n",
    "%autoreload 2\n",
    "%matplotlib inline\n",
    "\n",
    "import sys\n",
    "sys.path.append('..')"
   ]
  },
  {
   "cell_type": "code",
   "execution_count": null,
   "id": "0cd23a9c-5155-4f9e-9232-a7dd035f5a96",
   "metadata": {},
   "outputs": [],
   "source": [
    "import jax\n",
    "import flax\n",
    "import flax.linen as nn\n",
    "import optax\n",
    "\n",
    "from utils import MLP, AutoEncoder"
   ]
  },
  {
   "cell_type": "markdown",
   "id": "e2218a1f-bbf3-4109-958c-377544aa1e32",
   "metadata": {},
   "source": [
    "## Random data"
   ]
  },
  {
   "cell_type": "code",
   "execution_count": null,
   "id": "229b498d-7542-4314-8eb2-ec2366e8418c",
   "metadata": {},
   "outputs": [],
   "source": [
    "# create initial key\n",
    "key = jax.random.key(0)"
   ]
  },
  {
   "cell_type": "code",
   "execution_count": null,
   "id": "b15a76e2-4330-4618-aeba-d876069d3d31",
   "metadata": {},
   "outputs": [],
   "source": [
    "# generate random data\n",
    "num_features = 100\n",
    "batch_size = 32\n",
    "\n",
    "key, subkey = jax.random.split(key)\n",
    "\n",
    "x = jax.random.normal(subkey, (batch_size, num_features))\n",
    "\n",
    "print(f'Input shape: {x.shape}')"
   ]
  },
  {
   "cell_type": "markdown",
   "id": "2f826771-d309-4871-a5fc-5ac33f6ef4f1",
   "metadata": {},
   "source": [
    "## Multilayer perceptron"
   ]
  },
  {
   "cell_type": "code",
   "execution_count": null,
   "id": "3a152987-b6e7-4d85-a5f1-909a87d45869",
   "metadata": {},
   "outputs": [],
   "source": [
    "# create model\n",
    "features = [64, 32, 16]\n",
    "\n",
    "mlp = MLP(features)"
   ]
  },
  {
   "cell_type": "code",
   "execution_count": null,
   "id": "cf5b5c43-2f6f-4ad8-89ae-3886535c2f83",
   "metadata": {},
   "outputs": [],
   "source": [
    "# summarize model\n",
    "key, *subkeys = jax.random.split(key, num=3)\n",
    "\n",
    "print(\n",
    "    mlp.tabulate(\n",
    "        subkeys[0],\n",
    "        jax.random.normal(subkeys[1], (1, num_features))\n",
    "    )\n",
    ")"
   ]
  },
  {
   "cell_type": "code",
   "execution_count": null,
   "id": "a4c97524-ab59-4b2d-bae7-9ae75cab97a8",
   "metadata": {},
   "outputs": [],
   "source": [
    "# create parameters (that are not stored in the module instance)\n",
    "key, *subkeys = jax.random.split(key, num=3)\n",
    "\n",
    "params = mlp.init(\n",
    "    subkeys[0],\n",
    "    jax.random.normal(subkeys[1], (1, num_features)) # example inputs\n",
    ")\n",
    "\n",
    "# run model (shape inference is triggered)\n",
    "y = mlp.apply(params, x)\n",
    "\n",
    "print(f'Output shape: {y.shape}')"
   ]
  },
  {
   "cell_type": "markdown",
   "id": "c25b5871-7564-4e6b-8348-331ac0e04b1a",
   "metadata": {},
   "source": [
    "## Autoencoder"
   ]
  },
  {
   "cell_type": "code",
   "execution_count": null,
   "id": "d6349789-09fa-4a40-8f89-70732fd17400",
   "metadata": {},
   "outputs": [],
   "source": [
    "# create model\n",
    "enc_features = [64, 32, 16]\n",
    "dec_features = [32, 64, num_features]\n",
    "\n",
    "ae = AutoEncoder(enc_features, dec_features)"
   ]
  },
  {
   "cell_type": "code",
   "execution_count": null,
   "id": "fc45f011-86e1-4055-b65e-09a62197d19e",
   "metadata": {},
   "outputs": [],
   "source": [
    "# create parameters\n",
    "key, *subkeys = jax.random.split(key, num=3)\n",
    "\n",
    "params = ae.init(\n",
    "    subkeys[0],\n",
    "    jax.random.normal(subkeys[1], (1, num_features))\n",
    ")\n",
    "\n",
    "# run model\n",
    "x_hat = ae.apply(params, x)\n",
    "\n",
    "print(f'Output shape: {x_hat.shape}')"
   ]
  },
  {
   "cell_type": "code",
   "execution_count": null,
   "id": "58f83277-70bc-4c17-9cd0-3abfb686a755",
   "metadata": {},
   "outputs": [],
   "source": [
    "# run encoder/decoder submodules\n",
    "z = ae.apply(params, x, method=ae.encode)\n",
    "x_hat = ae.apply(params, z, method=ae.decode)\n",
    "\n",
    "print(f'Encoding shape: {z.shape}')\n",
    "print(f'Output shape: {x_hat.shape}')"
   ]
  }
 ],
 "metadata": {
  "kernelspec": {
   "display_name": "Python 3 (ipykernel)",
   "language": "python",
   "name": "python3"
  },
  "language_info": {
   "codemirror_mode": {
    "name": "ipython",
    "version": 3
   },
   "file_extension": ".py",
   "mimetype": "text/x-python",
   "name": "python",
   "nbconvert_exporter": "python",
   "pygments_lexer": "ipython3",
   "version": "3.12.0"
  }
 },
 "nbformat": 4,
 "nbformat_minor": 5
}
