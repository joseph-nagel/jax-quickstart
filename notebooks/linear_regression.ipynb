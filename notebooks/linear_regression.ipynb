{
 "cells": [
  {
   "cell_type": "markdown",
   "id": "2fe9d1e4-97b7-4d2e-870e-c7f27aaf39ea",
   "metadata": {},
   "source": [
    "# Linear regression"
   ]
  },
  {
   "cell_type": "code",
   "execution_count": null,
   "id": "c50aaf62-dcaf-4026-887c-317a8da9e4fe",
   "metadata": {},
   "outputs": [],
   "source": [
    "%load_ext autoreload\n",
    "%autoreload 2\n",
    "%matplotlib inline\n",
    "\n",
    "import sys\n",
    "sys.path.append('..')"
   ]
  },
  {
   "cell_type": "code",
   "execution_count": null,
   "id": "0cd23a9c-5155-4f9e-9232-a7dd035f5a96",
   "metadata": {},
   "outputs": [],
   "source": [
    "import jax\n",
    "import jax.numpy as jnp\n",
    "import flax\n",
    "import flax.linen as nn\n",
    "import optax\n",
    "\n",
    "from utils import (\n",
    "    make_linear_data,\n",
    "    MLP,\n",
    "    AutoEncoder,\n",
    "    mse\n",
    ")"
   ]
  },
  {
   "cell_type": "markdown",
   "id": "56ec45ce-a049-49bb-b0d4-283e335a5a64",
   "metadata": {},
   "source": [
    "## Setup"
   ]
  },
  {
   "cell_type": "code",
   "execution_count": null,
   "id": "8c327960-addc-45ae-9a0d-ba601b0e5016",
   "metadata": {},
   "outputs": [],
   "source": [
    "# create initial key\n",
    "key = jax.random.key(0)"
   ]
  },
  {
   "cell_type": "code",
   "execution_count": null,
   "id": "b091a314-6f0d-433d-823c-2e5e45548f91",
   "metadata": {},
   "outputs": [],
   "source": [
    "# create problem setup\n",
    "x_dim = 10\n",
    "y_dim = 2\n",
    "\n",
    "key, *subkeys = jax.random.split(key, num=3)\n",
    "\n",
    "W = jax.random.normal(subkeys[0], (x_dim, y_dim))\n",
    "b = jax.random.normal(subkeys[1], (y_dim,))"
   ]
  },
  {
   "cell_type": "code",
   "execution_count": null,
   "id": "1f66c737-6f9b-40a3-bfea-54dbeeb64c62",
   "metadata": {},
   "outputs": [],
   "source": [
    "# create training data\n",
    "num_train = 200\n",
    "num_val = 30\n",
    "\n",
    "key, *subkeys = jax.random.split(key, num=3)\n",
    "\n",
    "x_train, y_train = make_linear_data(subkeys[0], num_train, W, b)\n",
    "x_val, y_val = make_linear_data(subkeys[1], num_val, W, b)\n",
    "\n",
    "print(f'X shape (train): {x_train.shape}')\n",
    "print(f'y shape (train): {y_train.shape}')\n",
    "\n",
    "print(f'\\nX shape (val.): {x_val.shape}')\n",
    "print(f'y shape (val.): {y_val.shape}')"
   ]
  },
  {
   "cell_type": "code",
   "execution_count": null,
   "id": "b619264b-b8f7-4e5d-a859-c541125f830d",
   "metadata": {},
   "outputs": [],
   "source": [
    "# create nested dict\n",
    "nested_dict = {\n",
    "    'params': {\n",
    "        'kernel': W,\n",
    "        'bias': b\n",
    "    }\n",
    "}\n",
    "\n",
    "# make immutable pytree\n",
    "true_params = flax.core.freeze(nested_dict)\n",
    "\n",
    "print(jax.tree_util.tree_map(lambda x: x.shape, true_params))"
   ]
  },
  {
   "cell_type": "markdown",
   "id": "e786cae7-c4a7-47fb-b115-0336b6398e44",
   "metadata": {},
   "source": [
    "## Model"
   ]
  },
  {
   "cell_type": "code",
   "execution_count": null,
   "id": "203b2153-f79b-4f93-ab5a-9aa06c73f6be",
   "metadata": {},
   "outputs": [],
   "source": [
    "# create linear model\n",
    "model = nn.Dense(features=y_dim)"
   ]
  },
  {
   "cell_type": "code",
   "execution_count": null,
   "id": "28388e67-1596-47f6-94f4-399cb718826b",
   "metadata": {},
   "outputs": [],
   "source": [
    "# create parameters\n",
    "key, *subkeys = jax.random.split(key, num=3)\n",
    "\n",
    "params = model.init(\n",
    "    subkeys[0],\n",
    "    jax.random.normal(subkeys[1], (1, x_dim)) # example inputs\n",
    ")\n",
    "\n",
    "print(jax.tree_util.tree_map(lambda x: x.shape, params))"
   ]
  },
  {
   "cell_type": "markdown",
   "id": "6f49dffc-f572-4675-ae29-21651f7ea7c7",
   "metadata": {},
   "source": [
    "## Training"
   ]
  },
  {
   "cell_type": "code",
   "execution_count": null,
   "id": "55afa417-36ce-4281-b079-3a6ffee3da53",
   "metadata": {},
   "outputs": [],
   "source": [
    "@jax.jit\n",
    "def mse_loss(params, x, y):\n",
    "    y_pred = model.apply(params, x)\n",
    "    loss = mse(y_pred, y)\n",
    "    return loss\n",
    "\n",
    "# create function to compute loss and its gradients\n",
    "loss_and_grad = jax.value_and_grad(\n",
    "    mse_loss,\n",
    "    argnums=0 # differentiate w.r.t. first argument\n",
    ")"
   ]
  },
  {
   "cell_type": "code",
   "execution_count": null,
   "id": "a8bd9c52-388b-4ee1-b0fb-33a68a2a82e8",
   "metadata": {},
   "outputs": [],
   "source": [
    "num_epochs = 200\n",
    "learning_rate = 0.03\n",
    "\n",
    "# compute initial loss\n",
    "val_loss = mse_loss(params, x_val, y_val)\n",
    "print('Before training, val. loss: {:.2e}'.format(val_loss))\n",
    "\n",
    "# initialize optimizer\n",
    "optimizer = optax.adam(learning_rate=learning_rate)\n",
    "opt_state = optimizer.init(params)\n",
    "\n",
    "# perform training epochs\n",
    "for idx in range(num_epochs):\n",
    "\n",
    "    # compute loss and gradients\n",
    "    loss, grads = loss_and_grad(params, x_train, y_train)\n",
    "\n",
    "    # update parameters and optimizer\n",
    "    updates, opt_state = optimizer.update(grads, opt_state)\n",
    "    params = optax.apply_updates(params, updates)\n",
    "\n",
    "    # print losses\n",
    "    if (idx + 1) % 10 == 0 or (idx + 1) == num_epochs:\n",
    "        val_loss = mse_loss(params, x_val, y_val)\n",
    "        print('Epoch {}, batch loss: {:.2e}, val. loss: {:.2e}'.format(idx + 1, loss, val_loss))"
   ]
  }
 ],
 "metadata": {
  "kernelspec": {
   "display_name": "Python 3 (ipykernel)",
   "language": "python",
   "name": "python3"
  },
  "language_info": {
   "codemirror_mode": {
    "name": "ipython",
    "version": 3
   },
   "file_extension": ".py",
   "mimetype": "text/x-python",
   "name": "python",
   "nbconvert_exporter": "python",
   "pygments_lexer": "ipython3",
   "version": "3.12.0"
  }
 },
 "nbformat": 4,
 "nbformat_minor": 5
}
