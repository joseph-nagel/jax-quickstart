{
 "cells": [
  {
   "cell_type": "markdown",
   "id": "f1daf440-869e-4934-a567-76647393b830",
   "metadata": {},
   "source": [
    "# JAX basics"
   ]
  },
  {
   "cell_type": "code",
   "execution_count": null,
   "id": "34fb98e1-c2d0-45f7-bea6-26733c4b7171",
   "metadata": {},
   "outputs": [],
   "source": [
    "%load_ext autoreload\n",
    "%autoreload 2\n",
    "%matplotlib inline\n",
    "\n",
    "import sys\n",
    "sys.path.append('..')"
   ]
  },
  {
   "cell_type": "code",
   "execution_count": null,
   "id": "b3d4cf83-daf0-4b93-bdd9-4cac89720b5f",
   "metadata": {},
   "outputs": [],
   "source": [
    "import jax\n",
    "import jax.numpy as jnp\n",
    "from jax import grad, jit # program transformations\n",
    "\n",
    "from utils import (\n",
    "    sigmoid,\n",
    "    sigmoid_sum,\n",
    "    sigmoid_deriv,\n",
    ")"
   ]
  },
  {
   "cell_type": "markdown",
   "id": "ae5b5938-9be1-4625-b7f1-3eb4eec6f3d7",
   "metadata": {},
   "source": [
    "## Autograd"
   ]
  },
  {
   "cell_type": "code",
   "execution_count": null,
   "id": "57b6b160-04f3-4271-97c6-3fcd0f9b7a95",
   "metadata": {},
   "outputs": [],
   "source": [
    "num_samples = int(1e03)\n",
    "\n",
    "key = jax.random.PRNGKey(0)\n",
    "\n",
    "x = jax.random.normal(key, (num_samples,))\n",
    "\n",
    "sigmoid_sum_grad = grad(sigmoid_sum) # create gradient function"
   ]
  },
  {
   "cell_type": "code",
   "execution_count": null,
   "id": "545be091-1f48-4de4-9476-49fad6dcb5a9",
   "metadata": {},
   "outputs": [],
   "source": [
    "autodiff_grad = sigmoid_sum_grad(x)\n",
    "exact_grad = sigmoid_deriv(x)\n",
    "\n",
    "print(jnp.allclose(autodiff_grad, exact_grad))\n",
    "\n",
    "max_abs_diff = max(abs(autodiff_grad - exact_grad))\n",
    "print(max_abs_diff)"
   ]
  },
  {
   "cell_type": "markdown",
   "id": "7ddc80b3-1b48-44aa-a6bb-7e8c57458b29",
   "metadata": {},
   "source": [
    "## Just-in-time compilation"
   ]
  },
  {
   "cell_type": "code",
   "execution_count": null,
   "id": "79ca51dd-1cec-4d8b-b601-99e837689bf8",
   "metadata": {},
   "outputs": [],
   "source": [
    "num_samples = int(1e03)\n",
    "key = jax.random.PRNGKey(2024)\n",
    "\n",
    "x = jax.random.normal(key, (num_samples,))\n",
    "\n",
    "sigmoid_jit = jit(sigmoid) # create JIT-compiled function"
   ]
  },
  {
   "cell_type": "code",
   "execution_count": null,
   "id": "fceebbc2-edaf-408c-b267-32b13d0b1271",
   "metadata": {},
   "outputs": [],
   "source": [
    "%timeit sigmoid(x).block_until_ready() # avoid asynchronous execution when timing"
   ]
  },
  {
   "cell_type": "code",
   "execution_count": null,
   "id": "3f60797e-9466-4ea9-9583-920f3e0187db",
   "metadata": {},
   "outputs": [],
   "source": [
    "%timeit sigmoid_jit(x).block_until_ready()"
   ]
  },
  {
   "cell_type": "markdown",
   "id": "4f7133ed-6705-43a7-b578-d2c3bedbd93d",
   "metadata": {},
   "source": [
    "## Good to know\n",
    "\n",
    "### Index clamping"
   ]
  },
  {
   "cell_type": "code",
   "execution_count": null,
   "id": "86586ef5-35c8-4a8c-b53a-7a10f4c78580",
   "metadata": {},
   "outputs": [],
   "source": [
    "num_elem = 10\n",
    "\n",
    "arange = jnp.arange(num_elem)\n",
    "\n",
    "print(arange[num_elem - 1]) # last element\n",
    "print(arange[num_elem + 10]) # index is clamped"
   ]
  },
  {
   "cell_type": "markdown",
   "id": "30611292-4bb1-4b39-bc37-156213f8fb64",
   "metadata": {},
   "source": [
    "### In-place operations"
   ]
  },
  {
   "cell_type": "code",
   "execution_count": null,
   "id": "61cfc79e-0aa4-4ddf-8bdf-1d6736cadba5",
   "metadata": {},
   "outputs": [],
   "source": [
    "matrix = jnp.eye(2)\n",
    "\n",
    "# matrix[0, 0] = 2 # would throw an error\n",
    "new_matrix = matrix.at[0, 0].set(2) # proper way\n",
    "\n",
    "new_matrix = new_matrix.at[:, 1].add(5)\n",
    "\n",
    "print(new_matrix)"
   ]
  },
  {
   "cell_type": "markdown",
   "id": "8cde3122-8a2e-4a31-9b4e-54d789942173",
   "metadata": {},
   "source": [
    "### Random numbers"
   ]
  },
  {
   "cell_type": "code",
   "execution_count": null,
   "id": "af5ede5b-0ea4-4507-ba87-3b5a57dd7ed7",
   "metadata": {},
   "outputs": [],
   "source": [
    "key = jax.random.PRNGKey(0) # create an explicit PRNG state\n",
    "keys = jax.random.split(key, 10) # create multiple states"
   ]
  },
  {
   "cell_type": "code",
   "execution_count": null,
   "id": "d79e876d-7fea-4071-a540-420eea8508df",
   "metadata": {},
   "outputs": [],
   "source": [
    "num_elem = 10\n",
    "\n",
    "x1 = jax.random.normal(key, (num_elem,)) # pseudo-random numbers\n",
    "x2 = jax.random.normal(key, (num_elem,)) # exactly the same values\n",
    "\n",
    "print(jnp.all(x1 == x2))"
   ]
  },
  {
   "cell_type": "code",
   "execution_count": null,
   "id": "fb08da90-ce9f-4314-8803-4f69c020fd89",
   "metadata": {},
   "outputs": [],
   "source": [
    "for key in keys:\n",
    "    x = jax.random.normal(key) # different values\n",
    "    print(x)"
   ]
  }
 ],
 "metadata": {
  "kernelspec": {
   "display_name": "Python 3 (ipykernel)",
   "language": "python",
   "name": "python3"
  },
  "language_info": {
   "codemirror_mode": {
    "name": "ipython",
    "version": 3
   },
   "file_extension": ".py",
   "mimetype": "text/x-python",
   "name": "python",
   "nbconvert_exporter": "python",
   "pygments_lexer": "ipython3",
   "version": "3.12.0"
  }
 },
 "nbformat": 4,
 "nbformat_minor": 5
}
